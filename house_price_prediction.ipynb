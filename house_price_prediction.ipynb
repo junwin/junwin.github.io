{
  "nbformat": 4,
  "nbformat_minor": 0,
  "metadata": {
    "colab": {
      "name": "house price prediction.ipynb",
      "provenance": [],
      "collapsed_sections": [],
      "history_visible": true,
      "authorship_tag": "ABX9TyOeiH8K3BwHzIPtfQwMCQcP",
      "include_colab_link": true
    },
    "kernelspec": {
      "name": "python3",
      "display_name": "Python 3"
    }
  },
  "cells": [
    {
      "cell_type": "markdown",
      "metadata": {
        "id": "view-in-github",
        "colab_type": "text"
      },
      "source": [
        "<a href=\"https://colab.research.google.com/github/junwin/junwin.github.io/blob/master/house_price_prediction.ipynb\" target=\"_parent\"><img src=\"https://colab.research.google.com/assets/colab-badge.svg\" alt=\"Open In Colab\"/></a>"
      ]
    },
    {
      "cell_type": "markdown",
      "metadata": {
        "id": "YSXPatebybXC"
      },
      "source": [
        "# Setting up a regression model for house prices using Keras and Tensorflow\r\n",
        "\r\n",
        "To understand how the functionality fits into the typical workflow of data preparation, training the model and evaluating the fit using test data sets and using the model. I took a look at implementing a simple regression application to predict the sale price of a house given a simple set of features over about 4000 home sales. \r\n",
        "\r\n",
        "In the sample, we are going to take a look at a supervised learning problem of regression. A supervised learning task we train the model predicts a label's value from a set of features. The focus was on getting a small sample model up and running. \r\n",
        "We then experiment with the choice of feature and training algorithms to minimize prediction errors.\r\n",
        "\r\n",
        "We will run the code in Google's Colaboratory since this provides an excellent environment that allows access to GPU's, requires no configuration and enables sharing.\r\n"
      ]
    },
    {
      "cell_type": "markdown",
      "metadata": {
        "id": "9QhrAUUTed7f"
      },
      "source": [
        "## Dependancies\r\n",
        "First lets load any dependancies required."
      ]
    },
    {
      "cell_type": "code",
      "metadata": {
        "id": "M0thlCOV3qUc"
      },
      "source": [
        "#@title Dependancies\n",
        "import pandas as pd\n",
        "! pip install tensorflow==2.4.0\n",
        "# TensorFlow is an open source machine learning library\n",
        "import tensorflow as tf\n",
        "\n",
        "# Keras is TensorFlow's high-level API for deep learning\n",
        "from tensorflow import keras\n",
        "from tensorflow.keras import regularizers\n",
        "# Numpy is a math library\n",
        "import numpy as np\n",
        "# Pandas is a data manipulation library \n",
        "import pandas as pd\n",
        "# Matplotlib is a graphing library\n",
        "import matplotlib.pyplot as plt\n",
        "# Math is Python's math library\n",
        "import math\n",
        "from sklearn import preprocessing\n",
        "from sklearn.preprocessing import MinMaxScaler,StandardScaler"
      ],
      "execution_count": null,
      "outputs": []
    },
    {
      "cell_type": "markdown",
      "metadata": {
        "id": "FJLJ8PRGjdU7"
      },
      "source": [
        "## Let's load a dataset of house sales. \r\n",
        "We then need to sanity test the raw data we loaded to ensure the columns are in the date range we expect.  It is a good idea to check the data for any outliers; for example, in my first iteration, one home had 82 garage spots.\r\n",
        "The test data is from partsof the norther suberbs of Chicago, over a few years - so there is a regional bias in the data.\r\n"
      ]
    },
    {
      "cell_type": "code",
      "metadata": {
        "id": "WiK9OQRxjaXb",
        "colab": {
          "base_uri": "https://localhost:8080/",
          "height": 320
        },
        "outputId": "86e0bfc2-f5dd-4c39-e408-591cd489c086"
      },
      "source": [
        "url=\"https://junwin.github.io/HouseData3.csv\"\r\n",
        "rawData=pd.read_csv(url).sample(frac=1)\r\n",
        "rawData.describe()"
      ],
      "execution_count": 51,
      "outputs": [
        {
          "output_type": "execute_result",
          "data": {
            "text/html": [
              "<div>\n",
              "<style scoped>\n",
              "    .dataframe tbody tr th:only-of-type {\n",
              "        vertical-align: middle;\n",
              "    }\n",
              "\n",
              "    .dataframe tbody tr th {\n",
              "        vertical-align: top;\n",
              "    }\n",
              "\n",
              "    .dataframe thead th {\n",
              "        text-align: right;\n",
              "    }\n",
              "</style>\n",
              "<table border=\"1\" class=\"dataframe\">\n",
              "  <thead>\n",
              "    <tr style=\"text-align: right;\">\n",
              "      <th></th>\n",
              "      <th>MLS#</th>\n",
              "      <th>YearClosed</th>\n",
              "      <th>SoldPr</th>\n",
              "      <th>Locale</th>\n",
              "      <th>Zip</th>\n",
              "      <th>Area</th>\n",
              "      <th>Rooms</th>\n",
              "      <th>FullBaths</th>\n",
              "      <th>HalfBaths</th>\n",
              "      <th>Beds</th>\n",
              "      <th>BsmtBeds</th>\n",
              "      <th>GarageSpaces</th>\n",
              "      <th>ParkingSpaces</th>\n",
              "    </tr>\n",
              "  </thead>\n",
              "  <tbody>\n",
              "    <tr>\n",
              "      <th>count</th>\n",
              "      <td>6.851000e+03</td>\n",
              "      <td>6851.000000</td>\n",
              "      <td>6.851000e+03</td>\n",
              "      <td>6851.000000</td>\n",
              "      <td>6851.000000</td>\n",
              "      <td>6851.000000</td>\n",
              "      <td>6851.000000</td>\n",
              "      <td>6851.000000</td>\n",
              "      <td>6851.000000</td>\n",
              "      <td>6851.000000</td>\n",
              "      <td>6851.000000</td>\n",
              "      <td>6851.000000</td>\n",
              "      <td>6851.000000</td>\n",
              "    </tr>\n",
              "    <tr>\n",
              "      <th>mean</th>\n",
              "      <td>1.030734e+07</td>\n",
              "      <td>2018.963801</td>\n",
              "      <td>4.203940e+05</td>\n",
              "      <td>90.858415</td>\n",
              "      <td>60091.594220</td>\n",
              "      <td>2120.467815</td>\n",
              "      <td>7.750401</td>\n",
              "      <td>2.124799</td>\n",
              "      <td>0.530434</td>\n",
              "      <td>3.152168</td>\n",
              "      <td>0.130784</td>\n",
              "      <td>1.589899</td>\n",
              "      <td>0.364180</td>\n",
              "    </tr>\n",
              "    <tr>\n",
              "      <th>std</th>\n",
              "      <td>4.097783e+05</td>\n",
              "      <td>1.030840</td>\n",
              "      <td>2.824380e+05</td>\n",
              "      <td>64.187286</td>\n",
              "      <td>73.971679</td>\n",
              "      <td>1154.188644</td>\n",
              "      <td>2.402407</td>\n",
              "      <td>0.923679</td>\n",
              "      <td>0.577486</td>\n",
              "      <td>1.034099</td>\n",
              "      <td>0.377626</td>\n",
              "      <td>0.963217</td>\n",
              "      <td>1.048626</td>\n",
              "    </tr>\n",
              "    <tr>\n",
              "      <th>min</th>\n",
              "      <td>8.866215e+06</td>\n",
              "      <td>2017.000000</td>\n",
              "      <td>2.500000e+04</td>\n",
              "      <td>2.000000</td>\n",
              "      <td>60002.000000</td>\n",
              "      <td>372.000000</td>\n",
              "      <td>1.000000</td>\n",
              "      <td>0.000000</td>\n",
              "      <td>0.000000</td>\n",
              "      <td>0.000000</td>\n",
              "      <td>0.000000</td>\n",
              "      <td>0.000000</td>\n",
              "      <td>0.000000</td>\n",
              "    </tr>\n",
              "    <tr>\n",
              "      <th>25%</th>\n",
              "      <td>9.997535e+06</td>\n",
              "      <td>2018.000000</td>\n",
              "      <td>2.430000e+05</td>\n",
              "      <td>62.000000</td>\n",
              "      <td>60062.000000</td>\n",
              "      <td>1304.000000</td>\n",
              "      <td>6.000000</td>\n",
              "      <td>2.000000</td>\n",
              "      <td>0.000000</td>\n",
              "      <td>2.000000</td>\n",
              "      <td>0.000000</td>\n",
              "      <td>1.000000</td>\n",
              "      <td>0.000000</td>\n",
              "    </tr>\n",
              "    <tr>\n",
              "      <th>50%</th>\n",
              "      <td>1.038995e+07</td>\n",
              "      <td>2019.000000</td>\n",
              "      <td>3.440000e+05</td>\n",
              "      <td>76.000000</td>\n",
              "      <td>60076.000000</td>\n",
              "      <td>1800.000000</td>\n",
              "      <td>7.000000</td>\n",
              "      <td>2.000000</td>\n",
              "      <td>0.000000</td>\n",
              "      <td>3.000000</td>\n",
              "      <td>0.000000</td>\n",
              "      <td>2.000000</td>\n",
              "      <td>0.000000</td>\n",
              "    </tr>\n",
              "    <tr>\n",
              "      <th>75%</th>\n",
              "      <td>1.064400e+07</td>\n",
              "      <td>2020.000000</td>\n",
              "      <td>5.200000e+05</td>\n",
              "      <td>76.000000</td>\n",
              "      <td>60077.000000</td>\n",
              "      <td>2620.000000</td>\n",
              "      <td>9.000000</td>\n",
              "      <td>2.000000</td>\n",
              "      <td>1.000000</td>\n",
              "      <td>4.000000</td>\n",
              "      <td>0.000000</td>\n",
              "      <td>2.000000</td>\n",
              "      <td>0.000000</td>\n",
              "    </tr>\n",
              "    <tr>\n",
              "      <th>max</th>\n",
              "      <td>1.095755e+07</td>\n",
              "      <td>2020.000000</td>\n",
              "      <td>4.300000e+06</td>\n",
              "      <td>201.000000</td>\n",
              "      <td>63104.000000</td>\n",
              "      <td>13000.000000</td>\n",
              "      <td>18.000000</td>\n",
              "      <td>8.000000</td>\n",
              "      <td>5.000000</td>\n",
              "      <td>11.000000</td>\n",
              "      <td>3.000000</td>\n",
              "      <td>11.000000</td>\n",
              "      <td>20.000000</td>\n",
              "    </tr>\n",
              "  </tbody>\n",
              "</table>\n",
              "</div>"
            ],
            "text/plain": [
              "               MLS#   YearClosed  ...  GarageSpaces  ParkingSpaces\n",
              "count  6.851000e+03  6851.000000  ...   6851.000000    6851.000000\n",
              "mean   1.030734e+07  2018.963801  ...      1.589899       0.364180\n",
              "std    4.097783e+05     1.030840  ...      0.963217       1.048626\n",
              "min    8.866215e+06  2017.000000  ...      0.000000       0.000000\n",
              "25%    9.997535e+06  2018.000000  ...      1.000000       0.000000\n",
              "50%    1.038995e+07  2019.000000  ...      2.000000       0.000000\n",
              "75%    1.064400e+07  2020.000000  ...      2.000000       0.000000\n",
              "max    1.095755e+07  2020.000000  ...     11.000000      20.000000\n",
              "\n",
              "[8 rows x 13 columns]"
            ]
          },
          "metadata": {
            "tags": []
          },
          "execution_count": 51
        }
      ]
    },
    {
      "cell_type": "code",
      "metadata": {
        "id": "I3flBswUY2iA"
      },
      "source": [
        ""
      ],
      "execution_count": null,
      "outputs": []
    },
    {
      "cell_type": "markdown",
      "metadata": {
        "id": "weFwetTpY8Xa"
      },
      "source": [
        "### Features\r\n",
        "Let's grab the features we want to model; the good thing is that its relatively easy to experiment with different features using pandas."
      ]
    },
    {
      "cell_type": "code",
      "metadata": {
        "id": "xu88J81I5ogN"
      },
      "source": [
        "selectedFeatures = rawData[['YearClosed', 'Type', 'Area', 'Zip', 'Rooms','FullBaths','Beds','GarageSpaces']]\r\n",
        "prices = rawData['SoldPr']\r\n",
        "SAMPLES = len(selectedFeatures.index)\r\n",
        "featureCount = len(selectedFeatures.columns)\r\n"
      ],
      "execution_count": null,
      "outputs": []
    },
    {
      "cell_type": "markdown",
      "metadata": {
        "id": "eVrTzU9434g_"
      },
      "source": [
        "### Converting enumerations\r\n",
        "Before we can use the data we need to convert any features like type from string-based labels(e.g. Condo, Townhouse, Duplex ) to a numeric, we can use the sklearn.preprocessing tools for preprocessing and normalization.\r\n",
        "\r\n",
        "You can use the ordinal encoder in \"auto\" mode to identify categories in the training data - here I have specified the columns of interest.\r\n",
        "\r\n",
        "You need to ensure consitent types(e.g. strings, int, float) used in the columns to be converted."
      ]
    },
    {
      "cell_type": "code",
      "metadata": {
        "id": "pW4jwuz-TszI"
      },
      "source": [
        "ordinalColumns = ['YearClosed', 'Type', 'Zip']\r\n",
        "ordinalData = selectedFeatures[ordinalColumns]\r\n",
        "enc = preprocessing.OrdinalEncoder()\r\n",
        "enc.fit(ordinalData)\r\n",
        "enc.categories\r\n",
        "\r\n",
        "selectedFeatures[ordinalColumns] = enc.transform(ordinalData)\r\n"
      ],
      "execution_count": null,
      "outputs": []
    },
    {
      "cell_type": "markdown",
      "metadata": {
        "id": "XLLTOB0ZYq5C"
      },
      "source": [
        "### Normalization\r\n",
        "We should normalize the features and corresponding price targets to facilitate laerning."
      ]
    },
    {
      "cell_type": "code",
      "metadata": {
        "id": "OiTqhzpkZNI1"
      },
      "source": [
        "featureScaler = MinMaxScaler()\r\n",
        "selectedFeaturesScale =  pd.DataFrame(featureScaler.fit_transform(selectedFeatures), columns=selectedFeatures.columns)\r\n",
        "\r\n",
        "priceScaler = MinMaxScaler()\r\n",
        "pricesScale =  pd.DataFrame(priceScaler.fit_transform(prices.values.reshape(-1, 1)),columns=['SoldPr'])\r\n"
      ],
      "execution_count": null,
      "outputs": []
    },
    {
      "cell_type": "markdown",
      "metadata": {
        "id": "rgsFnlxHj0eA"
      },
      "source": [
        "### Understanding the input data\r\n",
        "It is imperative to have a good overview of the model's data, so you need to plot some of the features to check any issues. Suppose you look at the first plot of the area against price:\r\n",
        "* there are many issues as the area increases. \r\n",
        "* most of the data is for smaller homes.\r\n",
        "\r\n",
        "I am not going to address these issues here, but the input merits some scrutiny.\r\n"
      ]
    },
    {
      "cell_type": "code",
      "metadata": {
        "colab": {
          "base_uri": "https://localhost:8080/",
          "height": 761
        },
        "id": "8w_2iKLPj3P5",
        "outputId": "4231fb82-505f-4134-8219-e989dbf2dc34"
      },
      "source": [
        "# Plot our data to examine the relationship between some features and price\r\n",
        "plt.plot(selectedFeaturesScale['Area'], pricesScale, 'b.')\r\n",
        "plt.show()\r\n",
        "plt.plot(selectedFeaturesScale['Rooms'], pricesScale, 'b.')\r\n",
        "plt.show()\r\n",
        "plt.plot(selectedFeaturesScale['Zip'], pricesScale, 'b.')\r\n",
        "plt.show()"
      ],
      "execution_count": 52,
      "outputs": [
        {
          "output_type": "display_data",
          "data": {
            "image/png": "[encoded data removed]",
            "text/plain": [
              "<Figure size 432x288 with 1 Axes>"
            ]
          },
          "metadata": {
            "tags": [],
            "needs_background": "light"
          }
        },
        {
          "output_type": "display_data",
          "data": {
            "image/png": "[encoded data removed]",
            "text/plain": [
              "<Figure size 432x288 with 1 Axes>"
            ]
          },
          "metadata": {
            "tags": [],
            "needs_background": "light"
          }
        },
        {
          "output_type": "display_data",
          "data": {
            "image/png": "[encoded data removed]",
            "text/plain": [
              "<Figure size 432x288 with 1 Axes>"
            ]
          },
          "metadata": {
            "tags": [],
            "needs_background": "light"
          }
        }
      ]
    },
    {
      "cell_type": "code",
      "metadata": {
        "id": "NzPQkZt6lk-v"
      },
      "source": [
        "# We'll use 60% of our data for training and 20% for testing. The remaining 20%\r\n",
        "# will be used for validation. Calculate the indices of each section.\r\n",
        "TRAIN_SPLIT =  int(0.6 * SAMPLES)\r\n",
        "TEST_SPLIT = int(0.2 * SAMPLES + TRAIN_SPLIT)\r\n",
        "\r\n",
        "training_examples = selectedFeaturesScale.head(TRAIN_SPLIT)\r\n",
        "training_targets = pricesScale.head(TRAIN_SPLIT)\r\n",
        "\r\n",
        "validation_examples = selectedFeaturesScale[TEST_SPLIT:TEST_SPLIT+int(0.2 * SAMPLES)]\r\n",
        "validation_targets = pricesScale[TEST_SPLIT:TEST_SPLIT+int(0.2 * SAMPLES)]\r\n",
        "\r\n",
        "test_examples = selectedFeaturesScale.tail(int(0.2 * SAMPLES))\r\n",
        "test_targets = pricesScale.tail(int(0.2 * SAMPLES))\r\n",
        "\r\n",
        "# Double-check that we've done the right thing.\r\n",
        "print(\"Training examples summary:\")\r\n",
        "training_examples.describe()\r\n",
        "print(\"Validation examples summary:\")\r\n",
        "validation_examples.describe()\r\n",
        "\r\n",
        "print(\"Training targets summary:\")\r\n",
        "training_targets.describe()\r\n",
        "print(\"Validation targets summary:\")\r\n",
        "validation_targets.describe()\r\n"
      ],
      "execution_count": null,
      "outputs": []
    },
    {
      "cell_type": "markdown",
      "metadata": {
        "id": "TpiXfWvcfX-U"
      },
      "source": [
        "## Training a model using Keras\r\n",
        "Now we have our data we can use Keras (a high-level API to Tensorflow) to create a model.\r\n",
        " Keras makes it easy to experiment with different model architectures and visualize the results.\r\n",
        "\r\n",
        "We will begin with three layers and use the \"relu\" activation function. Notice that the first layer uses the featureCount to define its input shape, and the final layer outputs to a single neuron since its the predicted price.\r\n",
        "\r\n",
        "Notice that we are using some regularization in the model this is to reduce the chance of overfitting."
      ]
    },
    {
      "cell_type": "code",
      "metadata": {
        "id": "8_rlB7CVxLLK"
      },
      "source": [
        "model_1 = tf.keras.Sequential()\r\n",
        "\r\n",
        "#model_1.add(keras.layers.Dense(16, activation='relu', input_shape=(featureCount,)))\r\n",
        "model_1.add(keras.layers.Dense(16, activation='relu', kernel_regularizer=regularizers.l2(0.001), input_shape=(featureCount,)))\r\n",
        "#model_1.add(keras.layers.Dense(16, activation='relu'))\r\n",
        "model_1.add(keras.layers.Dense(16, activation='relu', kernel_regularizer=regularizers.l2(0.001)))\r\n",
        "model_1.add(keras.layers.Dense(1))\r\n",
        "\r\n",
        "# Compile the model using the standard 'adam' optimizer and the mean squared error or 'mse' loss function for regression.\r\n",
        "model_1.compile(optimizer='adam', loss='mse', metrics=['mae'])"
      ],
      "execution_count": null,
      "outputs": []
    },
    {
      "cell_type": "markdown",
      "metadata": {
        "id": "WHYrcqFigz80"
      },
      "source": [
        "### Having created the model, we will now train it."
      ]
    },
    {
      "cell_type": "code",
      "metadata": {
        "id": "mPWR0pUhxgpy"
      },
      "source": [
        "# Train the model on our training data while validating on our validation set\r\n",
        "history_1 = model_1.fit(training_examples, training_targets, epochs=500, batch_size=50,\r\n",
        "                        validation_data=(validation_examples, validation_targets))"
      ],
      "execution_count": null,
      "outputs": []
    },
    {
      "cell_type": "markdown",
      "metadata": {
        "id": "mZ3-oBaxg_Rr"
      },
      "source": [
        "### Understanding the results\r\n",
        "Having trained our model, we now need to check the training metrics to see how the model converges. First, we will check out training over all the epochs, then show a graph that excludes some of the initial epochs to focus on whats happening nearer the end."
      ]
    },
    {
      "cell_type": "code",
      "metadata": {
        "colab": {
          "base_uri": "https://localhost:8080/",
          "height": 573
        },
        "id": "eoTFmaiQyP5S",
        "outputId": "04437292-3dd9-446c-a437-3cd65e98178f"
      },
      "source": [
        "# Draw a graph of the loss, which is the distance between\r\n",
        "# the predicted and actual values during training and validation.\r\n",
        "train_loss = history_1.history['loss']\r\n",
        "val_loss = history_1.history['val_loss']\r\n",
        "epochs = range(1, len(train_loss) + 1)\r\n",
        "\r\n",
        "plt.plot(epochs, train_loss, 'g.', label='Training loss')\r\n",
        "plt.plot(epochs, val_loss, 'b', label='Validation loss')\r\n",
        "plt.title('Training and validation loss')\r\n",
        "plt.xlabel('Epochs')\r\n",
        "plt.ylabel('Loss')\r\n",
        "plt.legend()\r\n",
        "plt.show()\r\n",
        "\r\n",
        "# Exclude the first few epochs so the graph is easier to read\r\n",
        "SKIP = 50\r\n",
        "\r\n",
        "plt.plot(epochs[SKIP:], train_loss[SKIP:], 'g.', label='Training loss')\r\n",
        "plt.plot(epochs[SKIP:], val_loss[SKIP:], 'b.', label='Validation loss')\r\n",
        "plt.title('Training and validation loss')\r\n",
        "plt.xlabel('Epochs')\r\n",
        "plt.ylabel('Loss')\r\n",
        "plt.legend()\r\n",
        "plt.show()"
      ],
      "execution_count": 53,
      "outputs": [
        {
          "output_type": "display_data",
          "data": {
            "image/png": "[encoded data removed]",
            "text/plain": [
              "<Figure size 432x288 with 1 Axes>"
            ]
          },
          "metadata": {
            "tags": [],
            "needs_background": "light"
          }
        },
        {
          "output_type": "display_data",
          "data": {
            "image/png": "[encoded data removed]",
            "text/plain": [
              "<Figure size 432x288 with 1 Axes>"
            ]
          },
          "metadata": {
            "tags": [],
            "needs_background": "light"
          }
        }
      ]
    },
    {
      "cell_type": "markdown",
      "metadata": {
        "id": "kwnkQiGRjX_w"
      },
      "source": [
        "### Final test\r\n",
        "We can now use the 20% of the data we kept aside for a final test. First, we use the model to evaluate the test data and print out the mean squared error and the mean average error for predictions.\r\n",
        "\r\n",
        "It's a great idea to visualize some of the data by plotting actuals against predicted results."
      ]
    },
    {
      "cell_type": "code",
      "metadata": {
        "colab": {
          "base_uri": "https://localhost:8080/",
          "height": 318
        },
        "id": "iuPRHTZEzSWT",
        "outputId": "d8d374ad-8326-492d-e7da-b49368a6847d"
      },
      "source": [
        "# Calculate and print the loss on our test dataset\r\n",
        "test_loss, test_mae = model_1.evaluate(test_examples, test_targets)\r\n",
        "print(\"mean squared error:\", test_loss, \" mean average error:\", test_mae)\r\n",
        "\r\n",
        "y_test_pred = model_1.predict(test_examples)\r\n",
        "\r\n",
        "# Graph the predictions against the actual values\r\n",
        "plt.clf()\r\n",
        "plt.title('Comparison of predictions and actual values')\r\n",
        "plt.plot( test_targets,  y_test_pred, 'b.', label='Actual values')\r\n",
        "plt.show()\r\n"
      ],
      "execution_count": 54,
      "outputs": [
        {
          "output_type": "stream",
          "text": [
            "43/43 [==============================] - 0s 896us/step - loss: 0.0015 - mae: 0.0201\n",
            "mean squared error: 0.0014637162676081061  mean average error: 0.02014358527958393\n"
          ],
          "name": "stdout"
        },
        {
          "output_type": "display_data",
          "data": {
            "image/png": "[encoded data removed]",
            "text/plain": [
              "<Figure size 432x288 with 1 Axes>"
            ]
          },
          "metadata": {
            "tags": [],
            "needs_background": "light"
          }
        }
      ]
    },
    {
      "cell_type": "markdown",
      "metadata": {
        "id": "0c3TSty50zZG"
      },
      "source": [
        "## Run your own examples\r\n",
        "Lets try with a couple of test inferences  - the single family home (SFH) should be lower in zip 60002 than 60076"
      ]
    },
    {
      "cell_type": "code",
      "metadata": {
        "colab": {
          "base_uri": "https://localhost:8080/"
        },
        "id": "teqn6DEQ1dpl",
        "outputId": "fb68c37c-0bf0-4ec2-de0d-6065ed40e892"
      },
      "source": [
        "\r\n",
        "\r\n",
        "#Simple Sample\r\n",
        "houseData = {'YearClosed': [2020.00, 2019.00, 2019.00, 2019],\r\n",
        "\t'Type': ['SFH', 'SFH', 'Condo', 'Townhouse'],\r\n",
        "\t'Area': [2940, 1500, 1500, 1500],\r\n",
        "  'Zip': [60002, 60076, 60076, 60076],\r\n",
        "\t'Rooms': [9, 7, 7, 7],\r\n",
        "  'FullBaths': [2.5, 2.5, 2.5, 2.5],\r\n",
        "  'Beds': [4, 3, 3, 3],\r\n",
        "  'GarageSpaces': [2, 2, 0, 0]  }\r\n",
        "\r\n",
        "houseInfo = pd.DataFrame(houseData)\r\n",
        "ordinalData = houseInfo[ordinalColumns]\r\n",
        "houseInfo[ordinalColumns] = enc.transform(ordinalData)\r\n",
        "\r\n",
        "\r\n",
        "houseInfo =  pd.DataFrame(featureScaler.transform(houseInfo), columns=houseInfo.columns)\r\n",
        "newPrices = priceScaler.inverse_transform(model_1.predict(houseInfo))\r\n",
        "print(newPrices)\r\n",
        "\r\n",
        "\r\n",
        "\r\n"
      ],
      "execution_count": 55,
      "outputs": [
        {
          "output_type": "stream",
          "text": [
            "[[301545.84]\n",
            " [380038.03]\n",
            " [275025.38]\n",
            " [346722.06]]\n"
          ],
          "name": "stdout"
        }
      ]
    },
    {
      "cell_type": "markdown",
      "metadata": {
        "id": "IyHKBRo0qVgO"
      },
      "source": [
        "# Optional fun\r\n",
        "\r\n",
        "If we are happy with the model we can now convert and save it - I choose to save the model using Tensorflow lite to be able to run it on a small device.\r\n"
      ]
    },
    {
      "cell_type": "code",
      "metadata": {
        "id": "m-73KwwRqcmh"
      },
      "source": [
        "# Convert the model to the TensorFlow Lite format without quantization\r\n",
        "converter = tf.lite.TFLiteConverter.from_keras_model(model_1)\r\n",
        "model_no_quant_tflite = converter.convert()\r\n",
        "\r\n",
        "# Save the model to disk\r\n",
        "open(\"housePriceModelNoQuantization\", \"wb\").write(model_no_quant_tflite)\r\n"
      ],
      "execution_count": null,
      "outputs": []
    },
    {
      "cell_type": "markdown",
      "metadata": {
        "id": "ARF_86UywZNI"
      },
      "source": [
        "If you want to run the model using C on some smaller device (e.g. a Raspberry Pi) you can dump the model weightd as a C++ file.\r\n"
      ]
    },
    {
      "cell_type": "code",
      "metadata": {
        "id": "CixAdabNuCex"
      },
      "source": [
        "# Install xxd if it is not available\r\n",
        "!apt-get update && apt-get -qq install xxd\r\n",
        "# Convert to a C source file, i.e, a TensorFlow Lite for Microcontrollers model\r\n",
        "!xxd -i housePriceModelNoQuantization > model_1.cc\r\n",
        "!cat model_1.cc\r\n",
        "# Update variable names\r\n",
        "#REPLACE_TEXT = MODEL_TFLITE.replace('/', '_').replace('.', '_')\r\n",
        "#!sed -i 's/'{REPLACE_TEXT}'/g_model/g' {MODEL_TFLITE_MICRO}"
      ],
      "execution_count": null,
      "outputs": []
    },
    {
      "cell_type": "code",
      "metadata": {
        "id": "xuZl2D2Rqjlh"
      },
      "source": [
        ""
      ],
      "execution_count": null,
      "outputs": []
    }
  ]
}